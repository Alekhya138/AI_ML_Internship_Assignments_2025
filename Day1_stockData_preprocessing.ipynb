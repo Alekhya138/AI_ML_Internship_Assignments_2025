deleted incorrect file from Day1
